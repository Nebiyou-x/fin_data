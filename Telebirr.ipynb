{
 "cells": [
  {
   "cell_type": "code",
   "execution_count": 1,
   "id": "37680c42",
   "metadata": {},
   "outputs": [],
   "source": [
    "import requests\n",
    "from bs4 import BeautifulSoup\n",
    "import json\n",
    "import time\n",
    "import random"
   ]
  },
  {
   "cell_type": "code",
   "execution_count": 2,
   "id": "6dc05422",
   "metadata": {},
   "outputs": [],
   "source": [
    "def get_headers():\n",
    "    return {\n",
    "     'User-Agent': 'Mozilla/5.0 (Windows NT 10.0; Win64; x64) AppleWebKit/537.36 (KHTML, like Gecko) Chrome/118.0.0.0 Safari/537.36',\n",
    "        'Accept': 'text/html,application/xhtml+xml,application/xml;q=0.9,image/webp,image/apng,*/*;q=0.8',\n",
    "        'Accept-Language': 'en-US,en;q=0.9',\n",
    "        'Referer': 'https://www.google.com/',\n",
    "        'DNT': '1'\n",
    "    }"
   ]
  },
  {
   "cell_type": "code",
   "execution_count": 3,
   "id": "88c65917",
   "metadata": {},
   "outputs": [
    {
     "name": "stdout",
     "output_type": "stream",
     "text": [
      "Successfully scraped 26 FAQs\n",
      "Sample FAQ:\n",
      "{\n",
      "  \"question\": \"What is telebirr service?\",\n",
      "  \"answer\": \"telebirr is a digital cash that enables you access a variety of financial services at ease, with convenience at the tip of your fingers using your mobile phone without the need to have a bank account.It enables cashless payments, which reduces dependency on cash and allows tracking of transaction records. This increases financial security and reduces inherent risks of cash handling such as loss, theft or fraud.telebirr platform is accessible via most basic mobile phones.It helps you purchase goods & services online\\n• telebirr is a digital cash that enables you access a variety of financial services at ease, with convenience at the tip of your fingers using your mobile phone without the need to have a bank account.\\n• It enables cashless payments, which reduces dependency on cash and allows tracking of transaction records. This increases financial security and reduces inherent risks of cash handling such as loss, theft or fraud.\\n• telebirr platform is accessible via most basic mobile phones.\\n• It helps you purchase goods & services online\",\n",
      "  \"source\": \"Telebirr\",\n",
      "  \"Language\": \"English\"\n",
      "}\n"
     ]
    }
   ],
   "source": [
    "def scrape_telebirr_faqs(url):\n",
    "    try:\n",
    "        session = requests.Session()\n",
    "        \n",
    "       \n",
    "        response = session.get(url, headers=get_headers())\n",
    "        \n",
    "        if response.status_code != 200:\n",
    "            print(f\"Failed to fetch page. Status code: {response.status_code}\")\n",
    "            return []\n",
    "\n",
    "        soup = BeautifulSoup(response.text, 'html.parser')\n",
    "        \n",
    "        \n",
    "        accordion_lists = soup.find_all('div', class_='eael-accordion-list')\n",
    "        \n",
    "        if not accordion_lists:\n",
    "            print(\"No accordion items found. The page structure may have changed.\")\n",
    "            return []\n",
    "\n",
    "        faqs = []\n",
    "        \n",
    "        for item in accordion_lists:\n",
    "            try:\n",
    "                \n",
    "                question_element = item.find('div', class_='elementor-tab-title')\n",
    "                question = question_element.find('span').get_text(strip=True) if question_element else \"No question found\"\n",
    "                \n",
    "               \n",
    "                answer_element = item.find('div', class_='eael-accordion-content')\n",
    "                answer = \"\"\n",
    "                \n",
    "                if answer_element:\n",
    "                    \n",
    "                    for content in answer_element.find_all(['p', 'ul', 'div']):\n",
    "                        if content.name == 'p':\n",
    "                            text = content.get_text(strip=True)\n",
    "                            if text:  \n",
    "                                answer += text + \"\\n\"\n",
    "                        elif content.name == 'ul':\n",
    "                            for li in content.find_all('li'):\n",
    "                                answer += f\"• {li.get_text(strip=True)}\\n\"\n",
    "                        elif content.name == 'div' and 'mm-accordion-list' in content.get('class', []):\n",
    "                            for li in content.find_all('li'):\n",
    "                                answer += f\"• {li.get_text(strip=True)}\\n\"\n",
    "                \n",
    "                if question and answer:\n",
    "                    faqs.append({\n",
    "                        \"question\": question.strip(),\n",
    "                        \"answer\": answer.strip(),\n",
    "                        \"source\": \"Telebirr\",\n",
    "                        \"Language\" : \"English\"\n",
    "\n",
    "                    })\n",
    "                    \n",
    "            except Exception as e:\n",
    "                print(f\"Error processing accordion item: {str(e)}\")\n",
    "                continue\n",
    "                \n",
    "        return faqs\n",
    "\n",
    "    except Exception as e:\n",
    "        print(f\"Scraping failed: {str(e)}\")\n",
    "        return []\n",
    "\n",
    "if __name__ == \"__main__\":\n",
    "    url = \"https://www.ethiotelecom.et/telebirr/\" \n",
    "    faqs = scrape_telebirr_faqs(url)\n",
    "    \n",
    "    if faqs:\n",
    "        with open('telebirr_faqs.jsonl', 'w', encoding='utf-8') as f:\n",
    "            json.dump(faqs, f, indent=2, ensure_ascii=False)\n",
    "        \n",
    "        print(f\"Successfully scraped {len(faqs)} FAQs\")\n",
    "        print(\"Sample FAQ:\")\n",
    "        print(json.dumps(faqs[0], indent=2, ensure_ascii=False))\n",
    "    else:\n",
    "        print(\"No FAQs found. Please check the URL or website structure.\")"
   ]
  },
  {
   "cell_type": "code",
   "execution_count": null,
   "id": "ed36ccee",
   "metadata": {},
   "outputs": [],
   "source": []
  }
 ],
 "metadata": {
  "kernelspec": {
   "display_name": "Python 3",
   "language": "python",
   "name": "python3"
  },
  "language_info": {
   "codemirror_mode": {
    "name": "ipython",
    "version": 3
   },
   "file_extension": ".py",
   "mimetype": "text/x-python",
   "name": "python",
   "nbconvert_exporter": "python",
   "pygments_lexer": "ipython3",
   "version": "3.13.3"
  }
 },
 "nbformat": 4,
 "nbformat_minor": 5
}
