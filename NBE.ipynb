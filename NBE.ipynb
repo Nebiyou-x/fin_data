{
 "cells": [
  {
   "cell_type": "code",
   "execution_count": 1,
   "id": "dc2e39bf",
   "metadata": {},
   "outputs": [],
   "source": [
    "import requests\n",
    "from bs4 import BeautifulSoup\n",
    "import json"
   ]
  },
  {
   "cell_type": "code",
   "execution_count": 2,
   "id": "e9b98a1e",
   "metadata": {},
   "outputs": [
    {
     "name": "stdout",
     "output_type": "stream",
     "text": [
      "Successfully scraped 6 FAQs\n",
      "Sample FAQ:\n",
      "{\n",
      "  \"instruction\": \"Answer the following question about the National Bank of Ethiopia\",\n",
      "  \"input\": \"What is the National Bank of Ethiopia?\",\n",
      "  \"output\": \"TheNational Bank of Ethiopiais thecentral bank of Ethiopia. It plays a pivotal role in the country’s economic and financial system by serving as theregulator of the financial sectorand theformulator and implementer of monetary policy.\\nLearn more about what we do and how we do it.\\nFind out about our roles and function\",\n",
      "  \"source\": \"https://nbe.gov.et\",\n",
      "  \"category\": \"National Bank of Ethiopia FAQ\"\n",
      "}\n"
     ]
    }
   ],
   "source": [
    "def scrape_nbe_faqs(url):\n",
    "    headers = {\n",
    "        \"User-Agent\": \"Mozilla/5.0 (Windows NT 10.0; Win64; x64) AppleWebKit/537.36 (KHTML, like Gecko) Chrome/91.0.4472.124 Safari/537.36\"\n",
    "    }\n",
    "    \n",
    "    try:\n",
    "        response = requests.get(url, headers=headers)\n",
    "        response.encoding = 'utf-8'\n",
    "        soup = BeautifulSoup(response.text, 'html.parser')\n",
    "        \n",
    "        accordion = soup.find('div', class_='elementor-accordion')\n",
    "        \n",
    "        if not accordion:\n",
    "            print(\"Could not find FAQ accordion container\")\n",
    "            return []\n",
    "            \n",
    "        faq_list = []\n",
    "        \n",
    "        \n",
    "        faq_items = accordion.find_all('div', class_='elementor-accordion-item')\n",
    "        \n",
    "        for item in faq_items:\n",
    "            try:\n",
    "                \n",
    "                question_div = item.find('a', class_='elementor-accordion-title')\n",
    "                question = question_div.get_text(strip=True) if question_div else \"\"\n",
    "                \n",
    "                \n",
    "                answer_div = item.find('div', class_='elementor-tab-content')\n",
    "                answer = \"\"\n",
    "                \n",
    "                if answer_div:\n",
    "                    \n",
    "                    for element in answer_div.find_all(['p', 'span']):\n",
    "                        if element.name == 'p':\n",
    "                            answer += element.get_text(strip=True) + \"\\n\"\n",
    "                        elif element.name == 'span' and 'relative' in element.get('class', []):\n",
    "                            answer += element.get_text(strip=True) + \" \"\n",
    "                \n",
    "                if question and answer:\n",
    "                    faq_list.append({\n",
    "                        \"instruction\": \"Answer the following question about the National Bank of Ethiopia\",\n",
    "                        \"input\": question,\n",
    "                        \"output\": answer.strip(),\n",
    "                        \"source\": url,\n",
    "                        \"category\": \"National Bank of Ethiopia FAQ\"\n",
    "                    })\n",
    "                    \n",
    "            except Exception as e:\n",
    "                print(f\"Error processing item: {str(e)}\")\n",
    "                continue\n",
    "                \n",
    "        return faq_list\n",
    "        \n",
    "    except Exception as e:\n",
    "        print(f\"Scraping failed: {str(e)}\")\n",
    "        return []\n",
    "\n",
    "\n",
    "url = \"https://nbe.gov.et\"\n",
    "faqs = scrape_nbe_faqs(url)\n",
    "\n",
    "if faqs:\n",
    "    with open('nbe_faqs.json', 'w', encoding='utf-8') as f:\n",
    "        json.dump(faqs, f, indent=2, ensure_ascii=False)\n",
    "    \n",
    "    print(f\"Successfully scraped {len(faqs)} FAQs\")\n",
    "    print(\"Sample FAQ:\")\n",
    "    print(json.dumps(faqs[0], indent=2, ensure_ascii=False))\n",
    "else:\n",
    "    print(\"No FAQs found.\")"
   ]
  }
 ],
 "metadata": {
  "kernelspec": {
   "display_name": "Python 3",
   "language": "python",
   "name": "python3"
  },
  "language_info": {
   "codemirror_mode": {
    "name": "ipython",
    "version": 3
   },
   "file_extension": ".py",
   "mimetype": "text/x-python",
   "name": "python",
   "nbconvert_exporter": "python",
   "pygments_lexer": "ipython3",
   "version": "3.13.3"
  }
 },
 "nbformat": 4,
 "nbformat_minor": 5
}
